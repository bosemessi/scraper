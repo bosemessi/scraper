{
 "cells": [
  {
   "cell_type": "code",
   "execution_count": 1,
   "metadata": {
    "code_folding": [
     0
    ]
   },
   "outputs": [],
   "source": [
    "#Imports\n",
    "import time\n",
    "import pandas as pd\n",
    "import json\n",
    "from bs4 import BeautifulSoup as soup\n",
    "from tqdm import trange\n",
    "\n",
    "\n",
    "from selenium import webdriver\n",
    "from selenium.webdriver.common.keys import Keys\n",
    "from selenium.webdriver.chrome.options import Options\n",
    "from selenium.webdriver.common.by import By\n",
    "from selenium.webdriver.support.ui import WebDriverWait\n",
    "from selenium.webdriver.support import expected_conditions as EC\n",
    "from selenium.common.exceptions import TimeoutException, WebDriverException\n",
    "from selenium.webdriver.common.action_chains import ActionChains\n",
    "from selenium.common.exceptions import NoSuchElementException \n",
    "\n",
    "import sys\n",
    "import numpy as np"
   ]
  },
  {
   "cell_type": "markdown",
   "metadata": {},
   "source": [
    "Run the next cell to get the urls of all the main leagues with data available"
   ]
  },
  {
   "cell_type": "code",
   "execution_count": 138,
   "metadata": {
    "code_folding": [
     0
    ]
   },
   "outputs": [
    {
     "name": "stdout",
     "output_type": "stream",
     "text": [
      "League index : 0 , League name : https://www.whoscored.com/Regions/252/Tournaments/2/England-Premier-League\n",
      "League index : 1 , League name : https://www.whoscored.com/Regions/108/Tournaments/5/Italy-Serie-A\n",
      "League index : 2 , League name : https://www.whoscored.com/Regions/206/Tournaments/4/Spain-LaLiga\n",
      "League index : 3 , League name : https://www.whoscored.com/Regions/81/Tournaments/3/Germany-Bundesliga\n",
      "League index : 4 , League name : https://www.whoscored.com/Regions/74/Tournaments/22/France-Ligue-1\n",
      "League index : 5 , League name : https://www.whoscored.com/Regions/177/Tournaments/21/Portugal-Liga-NOS\n",
      "League index : 6 , League name : https://www.whoscored.com/Regions/155/Tournaments/13/Netherlands-Eredivisie\n",
      "League index : 7 , League name : https://www.whoscored.com/Regions/182/Tournaments/77/Russia-Premier-League\n",
      "League index : 8 , League name : https://www.whoscored.com/Regions/31/Tournaments/95/Brazil-Brasileir%C3%A3o\n",
      "League index : 9 , League name : https://www.whoscored.com/Regions/233/Tournaments/85/USA-Major-League-Soccer\n",
      "League index : 10 , League name : https://www.whoscored.com/Regions/225/Tournaments/17/Turkey-Super-Lig\n",
      "League index : 11 , League name : https://www.whoscored.com/Regions/252/Tournaments/7/England-Championship\n",
      "League index : 12 , League name : https://www.whoscored.com/Regions/253/Tournaments/20/Scotland-Premiership\n",
      "League index : 13 , League name : https://www.whoscored.com/Regions/252/Tournaments/8/England-League-One\n",
      "League index : 14 , League name : https://www.whoscored.com/Regions/252/Tournaments/9/England-League-Two\n",
      "League index : 15 , League name : https://www.whoscored.com/Regions/11/Tournaments/68/Argentina-Superliga\n",
      "League index : 16 , League name : https://www.whoscored.com/Regions/22/Tournaments/18/Belgium-Jupiler-Pro-League\n",
      "League index : 17 , League name : https://www.whoscored.com/Regions/45/Tournaments/162/China-Super-league\n",
      "League index : 18 , League name : https://www.whoscored.com/Regions/81/Tournaments/6/Germany-Bundesliga-II\n",
      "League index : 19 , League name : https://www.whoscored.com/Regions/250/Tournaments/12/Europe-Champions-League\n",
      "League index : 20 , League name : https://www.whoscored.com/Regions/250/Tournaments/30/Europe-Europa-League\n",
      "League index : 21 , League name : https://www.whoscored.com/Regions/247/Tournaments/683/International-UEFA-Nations-League-A\n"
     ]
    }
   ],
   "source": [
    "##### Get league links\n",
    "def getLeagueLinks(main_url):\n",
    "    \n",
    "    driver = webdriver.Chrome('chromedriver.exe')\n",
    "    driver.minimize_window()\n",
    "        \n",
    "    main = driver.get(main_url)\n",
    "    leagues = []\n",
    "    for i in range(22):\n",
    "        league = driver.find_element_by_xpath('//*[@id=\"popular-tournaments-list\"]/li['+str(i+1)+']/a').get_attribute('href')\n",
    "        leagues.append(league)\n",
    "    driver.close()\n",
    "    return leagues\n",
    "main_url = 'https://www.whoscored.com'\n",
    "leagues = getLeagueLinks(main_url)\n",
    "for i in range(len(leagues)):\n",
    "    print('League index : '+str(i)+' , League name : '+leagues[i])"
   ]
  },
  {
   "cell_type": "markdown",
   "metadata": {},
   "source": [
    "Now, based on the list of leagues above, select a league_index. 0 is for EPL, 1 is for Serie A, 2 is for La Liga, 3 is for Bundesliga, 4 is for Ligue 1, 5 is for Liga NOS, 6 is for Eredivisie and so on. After that, select the season_index you want to scrape. 1 is for the current season. 2 is for 2019-20. 3 is for 2018-19. 4 is for 2017-18 and so on. I believe the data is available only till 2011, but I don't think it's available for all leagues - probably only the top 5 leagues - you can check. \n",
    "Type in the league_index and season_index below and execute the cell"
   ]
  },
  {
   "cell_type": "code",
   "execution_count": 142,
   "metadata": {},
   "outputs": [],
   "source": [
    "league_index = 4\n",
    "season_index = 1"
   ]
  },
  {
   "cell_type": "markdown",
   "metadata": {},
   "source": [
    "Run the following cell, wait for the execution to finish, then visit the chrome tab and check if there is an ad blocking the view. If so, click on the X to close the ad and come back to the notebook. If there are no ads, just come back to the notebook."
   ]
  },
  {
   "cell_type": "code",
   "execution_count": 150,
   "metadata": {
    "code_folding": []
   },
   "outputs": [],
   "source": [
    "comp_url = leagues[league_index]\n",
    "driver = webdriver.Chrome('chromedriver.exe')\n",
    "comp = driver.get(comp_url)\n",
    "xpathstring = '//*[@id=\"seasons\"]/option['+str(season_index)+']'\n",
    "season = driver.find_element_by_xpath(xpathstring).click()\n",
    "time.sleep(5)"
   ]
  },
  {
   "cell_type": "markdown",
   "metadata": {},
   "source": [
    "Run the following cells one by one"
   ]
  },
  {
   "cell_type": "code",
   "execution_count": 151,
   "metadata": {},
   "outputs": [],
   "source": [
    "fixtures_page = driver.find_element_by_xpath('//*[@id=\"link-fixtures\"]').click()\n",
    "time.sleep(5)"
   ]
  },
  {
   "cell_type": "code",
   "execution_count": 152,
   "metadata": {},
   "outputs": [],
   "source": [
    "date_config_btn = driver.find_element_by_xpath('//*[@id=\"date-config-toggle-button\"]').click()\n",
    "time.sleep(5)"
   ]
  },
  {
   "cell_type": "code",
   "execution_count": 153,
   "metadata": {},
   "outputs": [],
   "source": [
    "year1 = driver.find_element_by_xpath('//*[@id=\"date-config\"]/div[1]/div/table/tbody/tr/td[1]/div/table/tbody/tr[1]/td').click()\n",
    "selectable_months = driver.find_element_by_xpath('//*[@id=\"date-config\"]/div[1]/div/table/tbody/tr/td[2]/div/table').find_elements_by_class_name(\"selectable\")\n",
    "\n",
    "n_months = len(selectable_months)\n",
    "\n",
    "year2 = driver.find_element_by_xpath('//*[@id=\"date-config\"]/div[1]/div/table/tbody/tr/td[1]/div/table/tbody/tr[2]/td').click()\n",
    "selectable_months = driver.find_element_by_xpath('//*[@id=\"date-config\"]/div[1]/div/table/tbody/tr/td[2]/div/table').find_elements_by_class_name(\"selectable\")\n",
    "\n",
    "n_months += len(selectable_months)\n",
    "date_config_btn = driver.find_element_by_xpath('//*[@id=\"date-config-toggle-button\"]').click()"
   ]
  },
  {
   "cell_type": "code",
   "execution_count": 154,
   "metadata": {},
   "outputs": [
    {
     "data": {
      "text/plain": [
       "10"
      ]
     },
     "execution_count": 154,
     "metadata": {},
     "output_type": "execute_result"
    }
   ],
   "source": [
    "n_months"
   ]
  },
  {
   "cell_type": "code",
   "execution_count": 155,
   "metadata": {},
   "outputs": [],
   "source": [
    "#for month_element in selectable_months:\n",
    "match_links = []\n",
    "def check_exists(row):\n",
    "    try:\n",
    "        elem = row.find(\"a\", {\"class\":\"result-1 rc\"})\n",
    "        if elem is None:\n",
    "            return False\n",
    "    except NoSuchElementException:\n",
    "        return False\n",
    "    return True\n",
    "for i in range(n_months):\n",
    "    time.sleep(2)\n",
    "    fixtures_table = driver.find_element_by_xpath('//*[@id=\"tournament-fixture\"]')\n",
    "    fixtures_table = fixtures_table.get_attribute('innerHTML')\n",
    "    fixtures_table = soup(fixtures_table, features=\"lxml\")\n",
    "    table_rows1 = fixtures_table.find_all(\"div\", {\"class\":\"divtable-row col12-lg-12 col12-m-12 col12-s-12 col12-xs-12\"})    \n",
    "    table_rows2 = fixtures_table.find_all(\"div\", {\"class\":\"divtable-row col12-lg-12 col12-m-12 col12-s-12 col12-xs-12 alt\"})\n",
    "    table_rows = table_rows1+table_rows2\n",
    "    links = []\n",
    "    links = [main_url+row.find(\"a\", {\"class\":\"result-1 rc\"}).get(\"href\") for row in table_rows if check_exists(row)]\n",
    "    for link in links:\n",
    "        match_links.append(link)\n",
    "    previous_month = driver.find_element_by_xpath('//*[@id=\"date-controller\"]/a[1]').click()\n",
    "if len(match_links) != 380:\n",
    "    fixtures_table = driver.find_element_by_xpath('//*[@id=\"tournament-fixture\"]')\n",
    "    fixtures_table = fixtures_table.get_attribute('innerHTML')\n",
    "    fixtures_table = soup(fixtures_table)\n",
    "    table_rows1 = fixtures_table.find_all(\"div\", {\"class\":\"divtable-row col12-lg-12 col12-m-12 col12-s-12 col12-xs-12\"})    \n",
    "    table_rows2 = fixtures_table.find_all(\"div\", {\"class\":\"divtable-row col12-lg-12 col12-m-12 col12-s-12 col12-xs-12 alt\"})\n",
    "    table_rows = table_rows1+table_rows2\n",
    "    links = []\n",
    "    links = [main_url+row.find(\"a\", {\"class\":\"result-1 rc\"}).get(\"href\") for row in table_rows if check_exists(row)]\n",
    "    for link in links:\n",
    "        match_links.append(link)\n",
    "\n",
    "match_links = list(dict.fromkeys(match_links))\n",
    "driver.close()"
   ]
  },
  {
   "cell_type": "code",
   "execution_count": 156,
   "metadata": {},
   "outputs": [
    {
     "data": {
      "text/plain": [
       "217"
      ]
     },
     "execution_count": 156,
     "metadata": {},
     "output_type": "execute_result"
    }
   ],
   "source": [
    "len(match_links)"
   ]
  },
  {
   "cell_type": "code",
   "execution_count": 158,
   "metadata": {},
   "outputs": [],
   "source": [
    "match_links = [[match_links[i]] for i in range(len(match_links))]"
   ]
  },
  {
   "cell_type": "code",
   "execution_count": 159,
   "metadata": {},
   "outputs": [
    {
     "data": {
      "text/plain": [
       "[['https://www.whoscored.com/Matches/1464069/Live/France-Ligue-1-2020-2021-Metz-Bordeaux'],\n",
       " ['https://www.whoscored.com/Matches/1464077/Live/France-Ligue-1-2020-2021-Strasbourg-Nimes'],\n",
       " ['https://www.whoscored.com/Matches/1464061/Live/France-Ligue-1-2020-2021-Lille-Angers'],\n",
       " ['https://www.whoscored.com/Matches/1464075/Live/France-Ligue-1-2020-2021-Saint-Etienne-Paris-Saint-Germain'],\n",
       " ['https://www.whoscored.com/Matches/1464067/Live/France-Ligue-1-2020-2021-Marseille-Montpellier'],\n",
       " ['https://www.whoscored.com/Matches/1464081/Live/France-Ligue-1-2020-2021-Dijon-Marseille'],\n",
       " ['https://www.whoscored.com/Matches/1464085/Live/France-Ligue-1-2020-2021-Metz-Nice'],\n",
       " ['https://www.whoscored.com/Matches/1464089/Live/France-Ligue-1-2020-2021-Montpellier-Nantes'],\n",
       " ['https://www.whoscored.com/Matches/1464093/Live/France-Ligue-1-2020-2021-Paris-Saint-Germain-Brest'],\n",
       " ['https://www.whoscored.com/Matches/1464099/Live/France-Ligue-1-2020-2021-Rennes-Lyon'],\n",
       " ['https://www.whoscored.com/Matches/1464110/Live/France-Ligue-1-2020-2021-Angers-Paris-Saint-Germain'],\n",
       " ['https://www.whoscored.com/Matches/1464117/Live/France-Ligue-1-2020-2021-Nantes-Lens'],\n",
       " ['https://www.whoscored.com/Matches/1464127/Live/France-Ligue-1-2020-2021-Strasbourg-Saint-Etienne'],\n",
       " ['https://www.whoscored.com/Matches/1464114/Live/France-Ligue-1-2020-2021-Lyon-Metz'],\n",
       " ['https://www.whoscored.com/Matches/1464137/Live/France-Ligue-1-2020-2021-Monaco-Marseille'],\n",
       " ['https://www.whoscored.com/Matches/1464131/Live/France-Ligue-1-2020-2021-Dijon-Strasbourg'],\n",
       " ['https://www.whoscored.com/Matches/1464143/Live/France-Ligue-1-2020-2021-Reims-Brest'],\n",
       " ['https://www.whoscored.com/Matches/1464147/Live/France-Ligue-1-2020-2021-Saint-Etienne-Lyon'],\n",
       " ['https://www.whoscored.com/Matches/1464126/Live/France-Ligue-1-2020-2021-Strasbourg-Reims'],\n",
       " ['https://www.whoscored.com/Matches/1464120/Live/France-Ligue-1-2020-2021-Lorient-Paris-Saint-Germain'],\n",
       " ['https://www.whoscored.com/Matches/1464128/Live/France-Ligue-1-2020-2021-Lille-Dijon'],\n",
       " ['https://www.whoscored.com/Matches/1464063/Live/France-Ligue-1-2020-2021-Lorient-Monaco'],\n",
       " ['https://www.whoscored.com/Matches/1464071/Live/France-Ligue-1-2020-2021-Nantes-Rennes'],\n",
       " ['https://www.whoscored.com/Matches/1464109/Live/France-Ligue-1-2020-2021-Brest-Nice'],\n",
       " ['https://www.whoscored.com/Matches/1464073/Live/France-Ligue-1-2020-2021-Reims-Dijon'],\n",
       " ['https://www.whoscored.com/Matches/1464065/Live/France-Ligue-1-2020-2021-Lyon-Lens'],\n",
       " ['https://www.whoscored.com/Matches/1464079/Live/France-Ligue-1-2020-2021-Bordeaux-Lorient'],\n",
       " ['https://www.whoscored.com/Matches/1464083/Live/France-Ligue-1-2020-2021-Lens-Strasbourg'],\n",
       " ['https://www.whoscored.com/Matches/1464087/Live/France-Ligue-1-2020-2021-Monaco-Angers'],\n",
       " ['https://www.whoscored.com/Matches/1464091/Live/France-Ligue-1-2020-2021-Nimes-Lille'],\n",
       " ['https://www.whoscored.com/Matches/1464096/Live/France-Ligue-1-2020-2021-Reims-Saint-Etienne'],\n",
       " ['https://www.whoscored.com/Matches/1464116/Live/France-Ligue-1-2020-2021-Montpellier-Monaco'],\n",
       " ['https://www.whoscored.com/Matches/1464115/Live/France-Ligue-1-2020-2021-Marseille-Nimes'],\n",
       " ['https://www.whoscored.com/Matches/1464111/Live/France-Ligue-1-2020-2021-Brest-Rennes'],\n",
       " ['https://www.whoscored.com/Matches/1464118/Live/France-Ligue-1-2020-2021-Nice-Bordeaux'],\n",
       " ['https://www.whoscored.com/Matches/1464112/Live/France-Ligue-1-2020-2021-Lille-Reims'],\n",
       " ['https://www.whoscored.com/Matches/1464017/Live/France-Ligue-1-2020-2021-Marseille-Lens'],\n",
       " ['https://www.whoscored.com/Matches/1464141/Live/France-Ligue-1-2020-2021-Paris-Saint-Germain-Montpellier'],\n",
       " ['https://www.whoscored.com/Matches/1464133/Live/France-Ligue-1-2020-2021-Lens-Nice'],\n",
       " ['https://www.whoscored.com/Matches/1464129/Live/France-Ligue-1-2020-2021-Bordeaux-Angers'],\n",
       " ['https://www.whoscored.com/Matches/1464135/Live/France-Ligue-1-2020-2021-Metz-Nantes'],\n",
       " ['https://www.whoscored.com/Matches/1464145/Live/France-Ligue-1-2020-2021-Rennes-Lille'],\n",
       " ['https://www.whoscored.com/Matches/1464113/Live/France-Ligue-1-2020-2021-Lorient-Dijon'],\n",
       " ['https://www.whoscored.com/Matches/1464121/Live/France-Ligue-1-2020-2021-Lyon-Bordeaux'],\n",
       " ['https://www.whoscored.com/Matches/1464123/Live/France-Ligue-1-2020-2021-Montpellier-Lens'],\n",
       " ['https://www.whoscored.com/Matches/1464125/Live/France-Ligue-1-2020-2021-Nice-Saint-Etienne'],\n",
       " ['https://www.whoscored.com/Matches/1464119/Live/France-Ligue-1-2020-2021-Brest-Metz'],\n",
       " ['https://www.whoscored.com/Matches/1464149/Live/France-Ligue-1-2020-2021-Angers-Nimes'],\n",
       " ['https://www.whoscored.com/Matches/1464124/Live/France-Ligue-1-2020-2021-Nantes-Monaco'],\n",
       " ['https://www.whoscored.com/Matches/1464045/Live/France-Ligue-1-2020-2021-Montpellier-Paris-Saint-Germain'],\n",
       " ['https://www.whoscored.com/Matches/1464040/Live/France-Ligue-1-2020-2021-Angers-Lorient'],\n",
       " ['https://www.whoscored.com/Matches/1464042/Live/France-Ligue-1-2020-2021-Dijon-Saint-Etienne'],\n",
       " ['https://www.whoscored.com/Matches/1464048/Live/France-Ligue-1-2020-2021-Reims-Nice'],\n",
       " ['https://www.whoscored.com/Matches/1464051/Live/France-Ligue-1-2020-2021-Lens-Montpellier'],\n",
       " ['https://www.whoscored.com/Matches/1464055/Live/France-Ligue-1-2020-2021-Nantes-Dijon'],\n",
       " ['https://www.whoscored.com/Matches/1464059/Live/France-Ligue-1-2020-2021-Strasbourg-Metz'],\n",
       " ['https://www.whoscored.com/Matches/1464052/Live/France-Ligue-1-2020-2021-Lille-Bordeaux'],\n",
       " ['https://www.whoscored.com/Matches/1464097/Live/France-Ligue-1-2020-2021-Dijon-Lille'],\n",
       " ['https://www.whoscored.com/Matches/1464105/Live/France-Ligue-1-2020-2021-Nimes-Nice'],\n",
       " ['https://www.whoscored.com/Matches/1464106/Live/France-Ligue-1-2020-2021-Paris-Saint-Germain-Lorient'],\n",
       " ['https://www.whoscored.com/Matches/1464100/Live/France-Ligue-1-2020-2021-Lyon-Brest'],\n",
       " ['https://www.whoscored.com/Matches/1464062/Live/France-Ligue-1-2020-2021-Rennes-Marseille'],\n",
       " ['https://www.whoscored.com/Matches/1464072/Live/France-Ligue-1-2020-2021-Marseille-Reims'],\n",
       " ['https://www.whoscored.com/Matches/1464066/Live/France-Ligue-1-2020-2021-Dijon-Monaco'],\n",
       " ['https://www.whoscored.com/Matches/1464080/Live/France-Ligue-1-2020-2021-Strasbourg-Bordeaux'],\n",
       " ['https://www.whoscored.com/Matches/1464070/Live/France-Ligue-1-2020-2021-Lorient-Rennes'],\n",
       " ['https://www.whoscored.com/Matches/1464088/Live/France-Ligue-1-2020-2021-Lens-Brest'],\n",
       " ['https://www.whoscored.com/Matches/1464101/Live/France-Ligue-1-2020-2021-Nimes-Dijon'],\n",
       " ['https://www.whoscored.com/Matches/1464095/Live/France-Ligue-1-2020-2021-Montpellier-Lille'],\n",
       " ['https://www.whoscored.com/Matches/1464090/Live/France-Ligue-1-2020-2021-Lyon-Nantes'],\n",
       " ['https://www.whoscored.com/Matches/1464084/Live/France-Ligue-1-2020-2021-Angers-Marseille'],\n",
       " ['https://www.whoscored.com/Matches/1464047/Live/France-Ligue-1-2020-2021-Nimes-Marseille'],\n",
       " ['https://www.whoscored.com/Matches/1464049/Live/France-Ligue-1-2020-2021-Rennes-Lens'],\n",
       " ['https://www.whoscored.com/Matches/1464043/Live/France-Ligue-1-2020-2021-Lille-Monaco'],\n",
       " ['https://www.whoscored.com/Matches/1464041/Live/France-Ligue-1-2020-2021-Bordeaux-Brest'],\n",
       " ['https://www.whoscored.com/Matches/1464046/Live/France-Ligue-1-2020-2021-Nantes-Strasbourg'],\n",
       " ['https://www.whoscored.com/Matches/1464044/Live/France-Ligue-1-2020-2021-Metz-Lyon'],\n",
       " ['https://www.whoscored.com/Matches/1464058/Live/France-Ligue-1-2020-2021-Saint-Etienne-Angers'],\n",
       " ['https://www.whoscored.com/Matches/1464054/Live/France-Ligue-1-2020-2021-Marseille-Monaco'],\n",
       " ['https://www.whoscored.com/Matches/1464056/Live/France-Ligue-1-2020-2021-Nice-Rennes'],\n",
       " ['https://www.whoscored.com/Matches/1464050/Live/France-Ligue-1-2020-2021-Brest-Reims'],\n",
       " ['https://www.whoscored.com/Matches/1464053/Live/France-Ligue-1-2020-2021-Lorient-Nimes'],\n",
       " ['https://www.whoscored.com/Matches/1464057/Live/France-Ligue-1-2020-2021-Paris-Saint-Germain-Lyon'],\n",
       " ['https://www.whoscored.com/Matches/1464060/Live/France-Ligue-1-2020-2021-Angers-Strasbourg'],\n",
       " ['https://www.whoscored.com/Matches/1464104/Live/France-Ligue-1-2020-2021-Montpellier-Metz'],\n",
       " ['https://www.whoscored.com/Matches/1464107/Live/France-Ligue-1-2020-2021-Reims-Nantes'],\n",
       " ['https://www.whoscored.com/Matches/1464094/Live/France-Ligue-1-2020-2021-Bordeaux-Saint-Etienne'],\n",
       " ['https://www.whoscored.com/Matches/1464102/Live/France-Ligue-1-2020-2021-Monaco-Lens'],\n",
       " ['https://www.whoscored.com/Matches/1464074/Live/France-Ligue-1-2020-2021-Metz-Lens'],\n",
       " ['https://www.whoscored.com/Matches/1464078/Live/France-Ligue-1-2020-2021-Nice-Lyon'],\n",
       " ['https://www.whoscored.com/Matches/1464064/Live/France-Ligue-1-2020-2021-Brest-Montpellier'],\n",
       " ['https://www.whoscored.com/Matches/1464076/Live/France-Ligue-1-2020-2021-Nantes-Angers'],\n",
       " ['https://www.whoscored.com/Matches/1464082/Live/France-Ligue-1-2020-2021-Saint-Etienne-Nimes'],\n",
       " ['https://www.whoscored.com/Matches/1464068/Live/France-Ligue-1-2020-2021-Lille-Paris-Saint-Germain'],\n",
       " ['https://www.whoscored.com/Matches/1464086/Live/France-Ligue-1-2020-2021-Bordeaux-Reims'],\n",
       " ['https://www.whoscored.com/Matches/1464108/Live/France-Ligue-1-2020-2021-Rennes-Metz'],\n",
       " ['https://www.whoscored.com/Matches/1464098/Live/France-Ligue-1-2020-2021-Nice-Lorient'],\n",
       " ['https://www.whoscored.com/Matches/1464103/Live/France-Ligue-1-2020-2021-Paris-Saint-Germain-Strasbourg'],\n",
       " ['https://www.whoscored.com/Matches/1464092/Live/France-Ligue-1-2020-2021-Monaco-Saint-Etienne'],\n",
       " ['https://www.whoscored.com/Matches/1464008/Live/France-Ligue-1-2020-2021-Angers-Nice'],\n",
       " ['https://www.whoscored.com/Matches/1464032/Live/France-Ligue-1-2020-2021-Nimes-Metz'],\n",
       " ['https://www.whoscored.com/Matches/1464019/Live/France-Ligue-1-2020-2021-Monaco-Bordeaux'],\n",
       " ['https://www.whoscored.com/Matches/1464013/Live/France-Ligue-1-2020-2021-Paris-Saint-Germain-Rennes'],\n",
       " ['https://www.whoscored.com/Matches/1463995/Live/France-Ligue-1-2020-2021-Lens-Reims'],\n",
       " ['https://www.whoscored.com/Matches/1464010/Live/France-Ligue-1-2020-2021-Nimes-Angers'],\n",
       " ['https://www.whoscored.com/Matches/1464007/Live/France-Ligue-1-2020-2021-Nice-Monaco'],\n",
       " ['https://www.whoscored.com/Matches/1464027/Live/France-Ligue-1-2020-2021-Monaco-Paris-Saint-Germain'],\n",
       " ['https://www.whoscored.com/Matches/1464030/Live/France-Ligue-1-2020-2021-Reims-Nimes'],\n",
       " ['https://www.whoscored.com/Matches/1464021/Live/France-Ligue-1-2020-2021-Dijon-Lens'],\n",
       " ['https://www.whoscored.com/Matches/1464023/Live/France-Ligue-1-2020-2021-Lille-Lorient'],\n",
       " ['https://www.whoscored.com/Matches/1464009/Live/France-Ligue-1-2020-2021-Paris-Saint-Germain-Bordeaux'],\n",
       " ['https://www.whoscored.com/Matches/1464003/Live/France-Ligue-1-2020-2021-Monaco-Nimes'],\n",
       " ['https://www.whoscored.com/Matches/1464038/Live/France-Ligue-1-2020-2021-Lens-Angers'],\n",
       " ['https://www.whoscored.com/Matches/1464006/Live/France-Ligue-1-2020-2021-Nice-Dijon'],\n",
       " ['https://www.whoscored.com/Matches/1464035/Live/France-Ligue-1-2020-2021-Saint-Etienne-Montpellier'],\n",
       " ['https://www.whoscored.com/Matches/1464011/Live/France-Ligue-1-2020-2021-Dijon-Lorient'],\n",
       " ['https://www.whoscored.com/Matches/1464033/Live/France-Ligue-1-2020-2021-Reims-Strasbourg'],\n",
       " ['https://www.whoscored.com/Matches/1464014/Live/France-Ligue-1-2020-2021-Lille-Lyon'],\n",
       " ['https://www.whoscored.com/Matches/1464016/Live/France-Ligue-1-2020-2021-Strasbourg-Marseille'],\n",
       " ['https://www.whoscored.com/Matches/1464036/Live/France-Ligue-1-2020-2021-Bordeaux-Montpellier'],\n",
       " ['https://www.whoscored.com/Matches/1463992/Live/France-Ligue-1-2020-2021-Brest-Lille'],\n",
       " ['https://www.whoscored.com/Matches/1463998/Live/France-Ligue-1-2020-2021-Lorient-Nantes'],\n",
       " ['https://www.whoscored.com/Matches/1464004/Live/France-Ligue-1-2020-2021-Metz-Dijon'],\n",
       " ['https://www.whoscored.com/Matches/1464001/Live/France-Ligue-1-2020-2021-Lyon-Saint-Etienne'],\n",
       " ['https://www.whoscored.com/Matches/1464037/Live/France-Ligue-1-2020-2021-Rennes-Bordeaux'],\n",
       " ['https://www.whoscored.com/Matches/1464020/Live/France-Ligue-1-2020-2021-Brest-Saint-Etienne'],\n",
       " ['https://www.whoscored.com/Matches/1464029/Live/France-Ligue-1-2020-2021-Nantes-Metz'],\n",
       " ['https://www.whoscored.com/Matches/1464028/Live/France-Ligue-1-2020-2021-Montpellier-Strasbourg'],\n",
       " ['https://www.whoscored.com/Matches/1464018/Live/France-Ligue-1-2020-2021-Angers-Lyon'],\n",
       " ['https://www.whoscored.com/Matches/1464024/Live/France-Ligue-1-2020-2021-Lens-Nantes'],\n",
       " ['https://www.whoscored.com/Matches/1464015/Live/France-Ligue-1-2020-2021-Strasbourg-Rennes'],\n",
       " ['https://www.whoscored.com/Matches/1463997/Live/France-Ligue-1-2020-2021-Marseille-Nantes'],\n",
       " ['https://www.whoscored.com/Matches/1463994/Live/France-Ligue-1-2020-2021-Lyon-Reims'],\n",
       " ['https://www.whoscored.com/Matches/1464000/Live/France-Ligue-1-2020-2021-Metz-Brest'],\n",
       " ['https://www.whoscored.com/Matches/1464039/Live/France-Ligue-1-2020-2021-Lorient-Montpellier'],\n",
       " ['https://www.whoscored.com/Matches/1464012/Live/France-Ligue-1-2020-2021-Saint-Etienne-Lille'],\n",
       " ['https://www.whoscored.com/Matches/1463976/Live/France-Ligue-1-2020-2021-Nice-Nantes'],\n",
       " ['https://www.whoscored.com/Matches/1463974/Live/France-Ligue-1-2020-2021-Metz-Lorient'],\n",
       " ['https://www.whoscored.com/Matches/1463971/Live/France-Ligue-1-2020-2021-Brest-Monaco'],\n",
       " ['https://www.whoscored.com/Matches/1463978/Live/France-Ligue-1-2020-2021-Rennes-Reims'],\n",
       " ['https://www.whoscored.com/Matches/1463986/Live/France-Ligue-1-2020-2021-Nimes-Paris-Saint-Germain'],\n",
       " ['https://www.whoscored.com/Matches/1463983/Live/France-Ligue-1-2020-2021-Marseille-Bordeaux'],\n",
       " ['https://www.whoscored.com/Matches/1463984/Live/France-Ligue-1-2020-2021-Monaco-Montpellier'],\n",
       " ['https://www.whoscored.com/Matches/1463980/Live/France-Ligue-1-2020-2021-Angers-Metz'],\n",
       " ['https://www.whoscored.com/Matches/1463982/Live/France-Ligue-1-2020-2021-Lille-Lens'],\n",
       " ['https://www.whoscored.com/Matches/1464002/Live/France-Ligue-1-2020-2021-Paris-Saint-Germain-Dijon'],\n",
       " ['https://www.whoscored.com/Matches/1463990/Live/France-Ligue-1-2020-2021-Bordeaux-Nimes'],\n",
       " ['https://www.whoscored.com/Matches/1463996/Live/France-Ligue-1-2020-2021-Montpellier-Reims'],\n",
       " ['https://www.whoscored.com/Matches/1463991/Live/France-Ligue-1-2020-2021-Lyon-Monaco'],\n",
       " ['https://www.whoscored.com/Matches/1464031/Live/France-Ligue-1-2020-2021-Nantes-Paris-Saint-Germain'],\n",
       " ['https://www.whoscored.com/Matches/1463977/Live/France-Ligue-1-2020-2021-Paris-Saint-Germain-Angers'],\n",
       " ['https://www.whoscored.com/Matches/1463972/Live/France-Ligue-1-2020-2021-Lens-Saint-Etienne'],\n",
       " ['https://www.whoscored.com/Matches/1463975/Live/France-Ligue-1-2020-2021-Montpellier-Nimes'],\n",
       " ['https://www.whoscored.com/Matches/1463970/Live/France-Ligue-1-2020-2021-Bordeaux-Dijon'],\n",
       " ['https://www.whoscored.com/Matches/1463979/Live/France-Ligue-1-2020-2021-Strasbourg-Lille'],\n",
       " ['https://www.whoscored.com/Matches/1463973/Live/France-Ligue-1-2020-2021-Lyon-Marseille'],\n",
       " ['https://www.whoscored.com/Matches/1463981/Live/France-Ligue-1-2020-2021-Dijon-Rennes'],\n",
       " ['https://www.whoscored.com/Matches/1463987/Live/France-Ligue-1-2020-2021-Reims-Lorient'],\n",
       " ['https://www.whoscored.com/Matches/1463989/Live/France-Ligue-1-2020-2021-Strasbourg-Lyon'],\n",
       " ['https://www.whoscored.com/Matches/1463985/Live/France-Ligue-1-2020-2021-Nantes-Brest'],\n",
       " ['https://www.whoscored.com/Matches/1463988/Live/France-Ligue-1-2020-2021-Saint-Etienne-Nice'],\n",
       " ['https://www.whoscored.com/Matches/1464005/Live/France-Ligue-1-2020-2021-Rennes-Angers'],\n",
       " ['https://www.whoscored.com/Matches/1464026/Live/France-Ligue-1-2020-2021-Lorient-Marseille'],\n",
       " ['https://www.whoscored.com/Matches/1464022/Live/France-Ligue-1-2020-2021-Brest-Strasbourg'],\n",
       " ['https://www.whoscored.com/Matches/1463993/Live/France-Ligue-1-2020-2021-Metz-Saint-Etienne'],\n",
       " ['https://www.whoscored.com/Matches/1463999/Live/France-Ligue-1-2020-2021-Nice-Lille'],\n",
       " ['https://www.whoscored.com/Matches/1464034/Live/France-Ligue-1-2020-2021-Rennes-Brest'],\n",
       " ['https://www.whoscored.com/Matches/1463949/Live/France-Ligue-1-2020-2021-Saint-Etienne-Strasbourg'],\n",
       " ['https://www.whoscored.com/Matches/1463944/Live/France-Ligue-1-2020-2021-Lorient-Lens'],\n",
       " ['https://www.whoscored.com/Matches/1463940/Live/France-Ligue-1-2020-2021-Angers-Reims'],\n",
       " ['https://www.whoscored.com/Matches/1463945/Live/France-Ligue-1-2020-2021-Monaco-Nantes'],\n",
       " ['https://www.whoscored.com/Matches/1463958/Live/France-Ligue-1-2020-2021-Rennes-Monaco'],\n",
       " ['https://www.whoscored.com/Matches/1463959/Live/France-Ligue-1-2020-2021-Strasbourg-Dijon'],\n",
       " ['https://www.whoscored.com/Matches/1463955/Live/France-Ligue-1-2020-2021-Montpellier-Angers'],\n",
       " ['https://www.whoscored.com/Matches/1463956/Live/France-Ligue-1-2020-2021-Nantes-Saint-Etienne'],\n",
       " ['https://www.whoscored.com/Matches/1463965/Live/France-Ligue-1-2020-2021-Marseille-Metz'],\n",
       " ['https://www.whoscored.com/Matches/1463962/Live/France-Ligue-1-2020-2021-Dijon-Montpellier'],\n",
       " ['https://www.whoscored.com/Matches/1463966/Live/France-Ligue-1-2020-2021-Monaco-Strasbourg'],\n",
       " ['https://www.whoscored.com/Matches/1463964/Live/France-Ligue-1-2020-2021-Lorient-Lyon'],\n",
       " ['https://www.whoscored.com/Matches/1463932/Live/France-Ligue-1-2020-2021-Lens-Paris-Saint-Germain'],\n",
       " ['https://www.whoscored.com/Matches/1463941/Live/France-Ligue-1-2020-2021-Bordeaux-Lyon'],\n",
       " ['https://www.whoscored.com/Matches/1463946/Live/France-Ligue-1-2020-2021-Montpellier-Nice'],\n",
       " ['https://www.whoscored.com/Matches/1463943/Live/France-Ligue-1-2020-2021-Lille-Metz'],\n",
       " ['https://www.whoscored.com/Matches/1463942/Live/France-Ligue-1-2020-2021-Dijon-Brest'],\n",
       " ['https://www.whoscored.com/Matches/1463947/Live/France-Ligue-1-2020-2021-Nimes-Rennes'],\n",
       " ['https://www.whoscored.com/Matches/1463948/Live/France-Ligue-1-2020-2021-Paris-Saint-Germain-Marseille'],\n",
       " ['https://www.whoscored.com/Matches/1463926/Live/France-Ligue-1-2020-2021-Montpellier-Lyon'],\n",
       " ['https://www.whoscored.com/Matches/1463929/Live/France-Ligue-1-2020-2021-Paris-Saint-Germain-Metz'],\n",
       " ['https://www.whoscored.com/Matches/1463924/Live/France-Ligue-1-2020-2021-Marseille-Saint-Etienne'],\n",
       " ['https://www.whoscored.com/Matches/1463952/Live/France-Ligue-1-2020-2021-Lyon-Nimes'],\n",
       " ['https://www.whoscored.com/Matches/1463951/Live/France-Ligue-1-2020-2021-Lens-Bordeaux'],\n",
       " ['https://www.whoscored.com/Matches/1463957/Live/France-Ligue-1-2020-2021-Nice-Paris-Saint-Germain'],\n",
       " ['https://www.whoscored.com/Matches/1463954/Live/France-Ligue-1-2020-2021-Metz-Reims'],\n",
       " ['https://www.whoscored.com/Matches/1463950/Live/France-Ligue-1-2020-2021-Brest-Lorient'],\n",
       " ['https://www.whoscored.com/Matches/1463953/Live/France-Ligue-1-2020-2021-Marseille-Lille'],\n",
       " ['https://www.whoscored.com/Matches/1463963/Live/France-Ligue-1-2020-2021-Lille-Nantes'],\n",
       " ['https://www.whoscored.com/Matches/1463969/Live/France-Ligue-1-2020-2021-Saint-Etienne-Rennes'],\n",
       " ['https://www.whoscored.com/Matches/1463961/Live/France-Ligue-1-2020-2021-Bordeaux-Nice'],\n",
       " ['https://www.whoscored.com/Matches/1463960/Live/France-Ligue-1-2020-2021-Angers-Brest'],\n",
       " ['https://www.whoscored.com/Matches/1463967/Live/France-Ligue-1-2020-2021-Nimes-Lens'],\n",
       " ['https://www.whoscored.com/Matches/1463968/Live/France-Ligue-1-2020-2021-Reims-Paris-Saint-Germain'],\n",
       " ['https://www.whoscored.com/Matches/1463922/Live/France-Ligue-1-2020-2021-Lille-Rennes'],\n",
       " ['https://www.whoscored.com/Matches/1463928/Live/France-Ligue-1-2020-2021-Nimes-Brest'],\n",
       " ['https://www.whoscored.com/Matches/1463927/Live/France-Ligue-1-2020-2021-Nice-Lens'],\n",
       " ['https://www.whoscored.com/Matches/1463939/Live/France-Ligue-1-2020-2021-Strasbourg-Nice'],\n",
       " ['https://www.whoscored.com/Matches/1463938/Live/France-Ligue-1-2020-2021-Saint-Etienne-Lorient'],\n",
       " ['https://www.whoscored.com/Matches/1463935/Live/France-Ligue-1-2020-2021-Nantes-Nimes'],\n",
       " ['https://www.whoscored.com/Matches/1463931/Live/France-Ligue-1-2020-2021-Brest-Marseille'],\n",
       " ['https://www.whoscored.com/Matches/1463920/Live/France-Ligue-1-2020-2021-Bordeaux-Nantes'],\n",
       " ['https://www.whoscored.com/Matches/1463921/Live/France-Ligue-1-2020-2021-Dijon-Angers'],\n",
       " ['https://www.whoscored.com/Matches/1463925/Live/France-Ligue-1-2020-2021-Monaco-Reims'],\n",
       " ['https://www.whoscored.com/Matches/1463923/Live/France-Ligue-1-2020-2021-Lorient-Strasbourg'],\n",
       " ['https://www.whoscored.com/Matches/1463933/Live/France-Ligue-1-2020-2021-Lyon-Dijon'],\n",
       " ['https://www.whoscored.com/Matches/1463937/Live/France-Ligue-1-2020-2021-Rennes-Montpellier'],\n",
       " ['https://www.whoscored.com/Matches/1463936/Live/France-Ligue-1-2020-2021-Reims-Lille'],\n",
       " ['https://www.whoscored.com/Matches/1463934/Live/France-Ligue-1-2020-2021-Metz-Monaco'],\n",
       " ['https://www.whoscored.com/Matches/1463930/Live/France-Ligue-1-2020-2021-Angers-Bordeaux']]"
      ]
     },
     "execution_count": 159,
     "metadata": {},
     "output_type": "execute_result"
    }
   ],
   "source": [
    "match_links"
   ]
  },
  {
   "cell_type": "markdown",
   "metadata": {},
   "source": [
    "Enter a nice filename and save the list of urls as a csv to be used for the actual match-scraping"
   ]
  },
  {
   "cell_type": "code",
   "execution_count": 160,
   "metadata": {},
   "outputs": [],
   "source": [
    "import csv\n",
    "filename = 'Ligue1_202021.csv'\n",
    "with open(filename, 'w') as f: \n",
    "      \n",
    "    # using csv.writer method from CSV package \n",
    "    write = csv.writer(f) \n",
    "      \n",
    "    write.writerow(['Col1']) \n",
    "    write.writerows(match_links) "
   ]
  }
 ],
 "metadata": {
  "kernelspec": {
   "display_name": "Python 3",
   "language": "python",
   "name": "python3"
  },
  "language_info": {
   "codemirror_mode": {
    "name": "ipython",
    "version": 3
   },
   "file_extension": ".py",
   "mimetype": "text/x-python",
   "name": "python",
   "nbconvert_exporter": "python",
   "pygments_lexer": "ipython3",
   "version": "3.7.6"
  }
 },
 "nbformat": 4,
 "nbformat_minor": 4
}
