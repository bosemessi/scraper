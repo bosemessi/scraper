{
 "cells": [
  {
   "cell_type": "code",
   "execution_count": 1,
   "metadata": {},
   "outputs": [],
   "source": [
    "url = \"https://www.whoscored.com/Regions/108/Tournaments/5/Seasons/8330/Stages/18873/Fixtures/Italy-Serie-A-2020-2021\""
   ]
  },
  {
   "cell_type": "code",
   "execution_count": 2,
   "metadata": {},
   "outputs": [],
   "source": [
    "from selenium import webdriver \n",
    "import time \n",
    "from bs4 import BeautifulSoup\n",
    "import pandas as pd\n",
    "import os; import sys;\n",
    "from selenium import webdriver\n",
    "from selenium.webdriver.chrome.options import Options\n",
    "from selenium.webdriver.common.by import By\n",
    "from selenium.webdriver.support.ui import WebDriverWait\n",
    "from selenium.webdriver.support import expected_conditions as EC\n",
    "from selenium.common.exceptions import TimeoutException, WebDriverException\n",
    "from selenium.webdriver.common.action_chains import ActionChains\n",
    "from selenium.common.exceptions import NoSuchElementException    \n",
    "def check_exists_by_tag(tagname,elem):\n",
    "    try:\n",
    "        elem.find_element_by_tag_name(tagname)\n",
    "    except NoSuchElementException:\n",
    "        return False\n",
    "    return True\n",
    "import time\n",
    "import json"
   ]
  },
  {
   "cell_type": "code",
   "execution_count": 3,
   "metadata": {},
   "outputs": [],
   "source": [
    "options = Options()\n",
    "options.add_argument(\"start-maximized\")\n",
    "options.add_argument(\"disable-infobars\")\n",
    "options.add_argument(\"--disable-extensions\")\n",
    "options.headless=True"
   ]
  },
  {
   "cell_type": "code",
   "execution_count": 4,
   "metadata": {},
   "outputs": [],
   "source": [
    "driver = webdriver.Chrome() \n",
    "driver.get(url)\n",
    "elems = driver.find_elements_by_xpath(\"//a[@href]\")\n",
    "listofmatches = []\n",
    "for elem in elems:\n",
    "    strelem = str(elem.get_attribute(\"href\"))\n",
    "    if(\"https://www.whoscored.com/Matches/\" in strelem):\n",
    "        if(\"Live\" in strelem):\n",
    "            listofmatches.append(strelem)\n",
    "listofmatches = list(set(listofmatches))\n",
    "df = pd.DataFrame(data={\"col1\": listofmatches})"
   ]
  },
  {
   "cell_type": "code",
   "execution_count": 5,
   "metadata": {},
   "outputs": [],
   "source": [
    "df.to_csv(\"SAmatchlist.csv\",encoding='utf-8-sig',index=False)"
   ]
  },
  {
   "cell_type": "code",
   "execution_count": 6,
   "metadata": {},
   "outputs": [
    {
     "data": {
      "text/plain": [
       "0"
      ]
     },
     "execution_count": 6,
     "metadata": {},
     "output_type": "execute_result"
    }
   ],
   "source": [
    "len(df)"
   ]
  },
  {
   "cell_type": "code",
   "execution_count": 14,
   "metadata": {
    "code_folding": []
   },
   "outputs": [
    {
     "data": {
      "text/plain": [
       "array([20200919, 20200919, 20200920, 20200920, 20200920, 20200920,\n",
       "       20200921, 20200926, 20200926, 20200926, 20200926, 20200927,\n",
       "       20200927, 20200927, 20200927, 20200927, 20200928, 20200930,\n",
       "       20200930, 20200930, 20201002, 20201003, 20201003, 20201004,\n",
       "       20201004, 20201004, 20201004, 20201004, 20201017, 20201017,\n",
       "       20201017, 20201017, 20201018, 20201018, 20201018, 20201018,\n",
       "       20201018, 20201019, 20201023, 20201024, 20201024, 20201024,\n",
       "       20201025, 20201025, 20201025, 20201025, 20201025, 20201026,\n",
       "       20201031, 20201031, 20201031, 20201101, 20201101, 20201101,\n",
       "       20201101, 20201101, 20201101, 20201102, 20201104, 20201106,\n",
       "       20201107, 20201107, 20201107, 20201108, 20201108, 20201108,\n",
       "       20201108, 20201108, 20201108, 20201121, 20201121, 20201121,\n",
       "       20201122, 20201122, 20201122, 20201122, 20201122, 20201122,\n",
       "       20201122, 20201128, 20201128, 20201128, 20201129, 20201129,\n",
       "       20201129, 20201129, 20201129, 20201130, 20201130, 20201205,\n",
       "       20201205, 20201205, 20201206, 20201206, 20201206, 20201206,\n",
       "       20201206, 20201207, 20201211, 20201212, 20201212, 20201212,\n",
       "       20201213, 20201213, 20201213, 20201213, 20201213, 20201213,\n",
       "       20201215, 20201215, 20201216, 20201216, 20201216, 20201216,\n",
       "       20201216, 20201216, 20201216, 20201217, 20201219, 20201219,\n",
       "       20201219, 20201220, 20201220, 20201220, 20201220, 20201220,\n",
       "       20201220, 20201220, 20201222, 20201222, 20201223, 20201223,\n",
       "       20201223, 20201223, 20201223, 20201223, 20201223, 20201223,\n",
       "       20210103, 20210103, 20210103, 20210103, 20210103, 20210103,\n",
       "       20210103, 20210103, 20210103, 20210103, 20210106, 20210106,\n",
       "       20210106, 20210106, 20210106, 20210106, 20210106, 20210106,\n",
       "       20210106, 20210106, 20210109, 20210109, 20210109, 20210110,\n",
       "       20210110, 20210110, 20210110, 20210110, 20210110, 20210111,\n",
       "       20210115, 20210116, 20210116, 20210116])"
      ]
     },
     "execution_count": 14,
     "metadata": {},
     "output_type": "execute_result"
    }
   ],
   "source": [
    "import numpy as np\n",
    "datafolder = 'D:\\\\202021\\\\5-2020\\\\'\n",
    "json_files = [datafolder+pos_json for pos_json in os.listdir(datafolder) if pos_json.endswith('.json')]\n",
    "date = []\n",
    "for i in range(len(json_files)):\n",
    "    jsonfile = json_files[i]\n",
    "    with open(jsonfile, encoding=\"utf-8\") as fh:\n",
    "        root = json.load(fh)\n",
    "    datearray = root['startDate'][:10].split('-')\n",
    "    date.append(int(datearray[0])*10000+int(datearray[1])*100+int(datearray[2]))\n",
    "date = np.array(date)\n",
    "np.sort(date)"
   ]
  },
  {
   "cell_type": "code",
   "execution_count": 16,
   "metadata": {},
   "outputs": [],
   "source": [
    "# root['home']['name']"
   ]
  },
  {
   "cell_type": "code",
   "execution_count": null,
   "metadata": {},
   "outputs": [],
   "source": []
  }
 ],
 "metadata": {
  "kernelspec": {
   "display_name": "Python 3",
   "language": "python",
   "name": "python3"
  },
  "language_info": {
   "codemirror_mode": {
    "name": "ipython",
    "version": 3
   },
   "file_extension": ".py",
   "mimetype": "text/x-python",
   "name": "python",
   "nbconvert_exporter": "python",
   "pygments_lexer": "ipython3",
   "version": "3.7.6"
  }
 },
 "nbformat": 4,
 "nbformat_minor": 4
}
