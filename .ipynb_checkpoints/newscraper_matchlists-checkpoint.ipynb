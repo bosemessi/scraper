{
 "cells": [
  {
   "cell_type": "code",
   "execution_count": 1,
   "metadata": {
    "code_folding": [
     0
    ]
   },
   "outputs": [],
   "source": [
    "#Imports\n",
    "import time\n",
    "import pandas as pd\n",
    "import json\n",
    "from bs4 import BeautifulSoup as soup\n",
    "from tqdm import trange\n",
    "from selenium import webdriver\n",
    "from selenium.webdriver.common.keys import Keys\n",
    "from selenium.webdriver.chrome.options import Options\n",
    "from selenium.webdriver.common.by import By\n",
    "from selenium.webdriver.support.ui import WebDriverWait\n",
    "from selenium.webdriver.support import expected_conditions as EC\n",
    "from selenium.common.exceptions import TimeoutException, WebDriverException\n",
    "from selenium.webdriver.common.action_chains import ActionChains\n",
    "from selenium.common.exceptions import NoSuchElementException \n",
    "import ipywidgets as widgets\n",
    "import sys\n",
    "import numpy as np"
   ]
  },
  {
   "cell_type": "markdown",
   "metadata": {},
   "source": [
    "Run the next cell to get the urls of all the main leagues with data available"
   ]
  },
  {
   "cell_type": "code",
   "execution_count": 9,
   "metadata": {
    "code_folding": [
     0
    ]
   },
   "outputs": [
    {
     "name": "stdout",
     "output_type": "stream",
     "text": [
      "League index : 0 , League name : https://www.whoscored.com/Regions/252/Tournaments/2/England-Premier-League\n",
      "League index : 1 , League name : https://www.whoscored.com/Regions/108/Tournaments/5/Italy-Serie-A\n",
      "League index : 2 , League name : https://www.whoscored.com/Regions/206/Tournaments/4/Spain-LaLiga\n",
      "League index : 3 , League name : https://www.whoscored.com/Regions/81/Tournaments/3/Germany-Bundesliga\n",
      "League index : 4 , League name : https://www.whoscored.com/Regions/74/Tournaments/22/France-Ligue-1\n",
      "League index : 5 , League name : https://www.whoscored.com/Regions/177/Tournaments/21/Portugal-Liga-NOS\n",
      "League index : 6 , League name : https://www.whoscored.com/Regions/155/Tournaments/13/Netherlands-Eredivisie\n",
      "League index : 7 , League name : https://www.whoscored.com/Regions/182/Tournaments/77/Russia-Premier-League\n",
      "League index : 8 , League name : https://www.whoscored.com/Regions/31/Tournaments/95/Brazil-Brasileir%C3%A3o\n",
      "League index : 9 , League name : https://www.whoscored.com/Regions/233/Tournaments/85/USA-Major-League-Soccer\n",
      "League index : 10 , League name : https://www.whoscored.com/Regions/225/Tournaments/17/Turkey-Super-Lig\n",
      "League index : 11 , League name : https://www.whoscored.com/Regions/252/Tournaments/7/England-Championship\n",
      "League index : 12 , League name : https://www.whoscored.com/Regions/253/Tournaments/20/Scotland-Premiership\n",
      "League index : 13 , League name : https://www.whoscored.com/Regions/252/Tournaments/8/England-League-One\n",
      "League index : 14 , League name : https://www.whoscored.com/Regions/252/Tournaments/9/England-League-Two\n",
      "League index : 15 , League name : https://www.whoscored.com/Regions/11/Tournaments/68/Argentina-Superliga\n",
      "League index : 16 , League name : https://www.whoscored.com/Regions/22/Tournaments/18/Belgium-Jupiler-Pro-League\n",
      "League index : 17 , League name : https://www.whoscored.com/Regions/45/Tournaments/162/China-Super-league\n",
      "League index : 18 , League name : https://www.whoscored.com/Regions/81/Tournaments/6/Germany-Bundesliga-II\n",
      "League index : 19 , League name : https://www.whoscored.com/Regions/250/Tournaments/12/Europe-Champions-League\n",
      "League index : 20 , League name : https://www.whoscored.com/Regions/250/Tournaments/30/Europe-Europa-League\n",
      "League index : 21 , League name : https://www.whoscored.com/Regions/247/Tournaments/683/International-UEFA-Nations-League-A\n"
     ]
    }
   ],
   "source": [
    "##### Get league links\n",
    "def getLeagueLinks(main_url):\n",
    "    \n",
    "    driver = webdriver.Chrome('chromedriver.exe')\n",
    "    driver.minimize_window()\n",
    "        \n",
    "    main = driver.get(main_url)\n",
    "    leagues = []\n",
    "    for i in range(22):\n",
    "        league = driver.find_element_by_xpath('//*[@id=\"popular-tournaments-list\"]/li['+str(i+1)+']/a').get_attribute('href')\n",
    "        leagues.append(league)\n",
    "    driver.close()\n",
    "    return leagues\n",
    "main_url = 'https://www.whoscored.com'\n",
    "leagues = getLeagueLinks(main_url)\n",
    "for i in range(len(leagues)):\n",
    "    print('League index : '+str(i)+' , League name : '+leagues[i])"
   ]
  },
  {
   "cell_type": "markdown",
   "metadata": {},
   "source": [
    "Now, select a league and season. Keep in mind that there might not be data available for all leagues for all seasons. You will have to check."
   ]
  },
  {
   "cell_type": "code",
   "execution_count": 83,
   "metadata": {
    "code_folding": [
     0
    ]
   },
   "outputs": [
    {
     "data": {
      "application/vnd.jupyter.widget-view+json": {
       "model_id": "989acdb6d8064c8cba16857dce946eb7",
       "version_major": 2,
       "version_minor": 0
      },
      "text/plain": [
       "HBox(children=(Dropdown(description='League', options=('EPL', 'SA', 'LL', 'BuLi', 'L1', 'LigaNOS', 'Eredivisie…"
      ]
     },
     "metadata": {},
     "output_type": "display_data"
    }
   ],
   "source": [
    "###### Choose League and season\n",
    "Leagues = ['EPL','SA','LL','BuLi','L1','LigaNOS','Eredivisie','RPL','Brazil','MLS','Turkey',\n",
    "          'Championship','Premiership','LeagueOne','LeagueTwo','Argentina','Belgium','China','BuliII',\n",
    "          'UCL','UEL','NationsLeagueA']\n",
    "seasons = ['202021','201920','201819','201718','201617','201516','201415','201314','201213','201112','201011','200910']\n",
    "\n",
    "League = widgets.Dropdown(\n",
    "    options=Leagues,\n",
    "    value=Leagues[0],\n",
    "    description='League',\n",
    "    disabled=False,\n",
    ")\n",
    "Season = widgets.Dropdown(\n",
    "    options=seasons,\n",
    "    value=seasons[0],\n",
    "    description='Season',\n",
    "    disabled=False,\n",
    ")\n",
    "box = widgets.HBox(children = [League,Season])\n",
    "display(box)"
   ]
  },
  {
   "cell_type": "code",
   "execution_count": 165,
   "metadata": {
    "code_folding": []
   },
   "outputs": [
    {
     "data": {
      "text/plain": [
       "('LL', '201617')"
      ]
     },
     "execution_count": 165,
     "metadata": {},
     "output_type": "execute_result"
    }
   ],
   "source": [
    "###### Display the Chosen values for verification\n",
    "League.value,Season.value"
   ]
  },
  {
   "cell_type": "markdown",
   "metadata": {},
   "source": [
    "Run the following cell, wait for the execution to finish, then visit the chrome tab and check if there is an ad blocking the view. If so, click on the X to close the ad and come back to the notebook. If there are no ads, just come back to the notebook."
   ]
  },
  {
   "cell_type": "code",
   "execution_count": 166,
   "metadata": {
    "code_folding": []
   },
   "outputs": [],
   "source": [
    "league_index = Leagues.index(League.value)\n",
    "season_index = seasons.index(Season.value)+1\n",
    "comp_url = leagues[league_index]\n",
    "driver = webdriver.Chrome('chromedriver.exe')\n",
    "comp = driver.get(comp_url)\n",
    "xpathstring = '//*[@id=\"seasons\"]/option['+str(season_index)+']'\n",
    "season = driver.find_element_by_xpath(xpathstring).click()\n",
    "time.sleep(5)"
   ]
  },
  {
   "cell_type": "markdown",
   "metadata": {},
   "source": [
    "Run the following cells one by one"
   ]
  },
  {
   "cell_type": "code",
   "execution_count": 167,
   "metadata": {},
   "outputs": [],
   "source": [
    "fixtures_page = driver.find_element_by_xpath('//*[@id=\"link-fixtures\"]').click()\n",
    "time.sleep(5)"
   ]
  },
  {
   "cell_type": "code",
   "execution_count": 168,
   "metadata": {},
   "outputs": [],
   "source": [
    "date_config_btn = driver.find_element_by_xpath('//*[@id=\"date-config-toggle-button\"]').click()\n",
    "time.sleep(5)"
   ]
  },
  {
   "cell_type": "code",
   "execution_count": 169,
   "metadata": {},
   "outputs": [],
   "source": [
    "year1 = driver.find_element_by_xpath('//*[@id=\"date-config\"]/div[1]/div/table/tbody/tr/td[1]/div/table/tbody/tr[1]/td').click()\n",
    "selectable_months = driver.find_element_by_xpath('//*[@id=\"date-config\"]/div[1]/div/table/tbody/tr/td[2]/div/table').find_elements_by_class_name(\"selectable\")\n",
    "\n",
    "n_months = len(selectable_months)\n",
    "\n",
    "year2 = driver.find_element_by_xpath('//*[@id=\"date-config\"]/div[1]/div/table/tbody/tr/td[1]/div/table/tbody/tr[2]/td').click()\n",
    "selectable_months = driver.find_element_by_xpath('//*[@id=\"date-config\"]/div[1]/div/table/tbody/tr/td[2]/div/table').find_elements_by_class_name(\"selectable\")\n",
    "\n",
    "n_months += len(selectable_months)\n",
    "date_config_btn = driver.find_element_by_xpath('//*[@id=\"date-config-toggle-button\"]').click()"
   ]
  },
  {
   "cell_type": "code",
   "execution_count": 170,
   "metadata": {},
   "outputs": [
    {
     "data": {
      "text/plain": [
       "10"
      ]
     },
     "execution_count": 170,
     "metadata": {},
     "output_type": "execute_result"
    }
   ],
   "source": [
    "n_months"
   ]
  },
  {
   "cell_type": "code",
   "execution_count": 171,
   "metadata": {
    "code_folding": []
   },
   "outputs": [],
   "source": [
    "#for month_element in selectable_months:\n",
    "match_links = []\n",
    "def check_exists(row):\n",
    "    try:\n",
    "        elem = row.find(\"a\", {\"class\":\"result-1 rc\"})\n",
    "        if elem is None:\n",
    "            return False\n",
    "    except NoSuchElementException:\n",
    "        return False\n",
    "    return True\n",
    "for i in range(n_months):\n",
    "    time.sleep(2)\n",
    "    fixtures_table = driver.find_element_by_xpath('//*[@id=\"tournament-fixture\"]')\n",
    "    fixtures_table = fixtures_table.get_attribute('innerHTML')\n",
    "    fixtures_table = soup(fixtures_table, features=\"lxml\")\n",
    "    table_rows1 = fixtures_table.find_all(\"div\", {\"class\":\"divtable-row col12-lg-12 col12-m-12 col12-s-12 col12-xs-12\"})    \n",
    "    table_rows2 = fixtures_table.find_all(\"div\", {\"class\":\"divtable-row col12-lg-12 col12-m-12 col12-s-12 col12-xs-12 alt\"})\n",
    "    table_rows = table_rows1+table_rows2\n",
    "    links = []\n",
    "    links = [main_url+row.find(\"a\", {\"class\":\"result-1 rc\"}).get(\"href\") for row in table_rows if check_exists(row)]\n",
    "    for link in links:\n",
    "        match_links.append(link)\n",
    "    previous_month = driver.find_element_by_xpath('//*[@id=\"date-controller\"]/a[1]').click()\n",
    "if len(match_links) != 380:\n",
    "    fixtures_table = driver.find_element_by_xpath('//*[@id=\"tournament-fixture\"]')\n",
    "    fixtures_table = fixtures_table.get_attribute('innerHTML')\n",
    "    fixtures_table = soup(fixtures_table)\n",
    "    table_rows1 = fixtures_table.find_all(\"div\", {\"class\":\"divtable-row col12-lg-12 col12-m-12 col12-s-12 col12-xs-12\"})    \n",
    "    table_rows2 = fixtures_table.find_all(\"div\", {\"class\":\"divtable-row col12-lg-12 col12-m-12 col12-s-12 col12-xs-12 alt\"})\n",
    "    table_rows = table_rows1+table_rows2\n",
    "    links = []\n",
    "    links = [main_url+row.find(\"a\", {\"class\":\"result-1 rc\"}).get(\"href\") for row in table_rows if check_exists(row)]\n",
    "    for link in links:\n",
    "        match_links.append(link)\n",
    "\n",
    "match_links = list(dict.fromkeys(match_links))\n",
    "driver.close()"
   ]
  },
  {
   "cell_type": "code",
   "execution_count": 172,
   "metadata": {},
   "outputs": [
    {
     "data": {
      "text/plain": [
       "380"
      ]
     },
     "execution_count": 172,
     "metadata": {},
     "output_type": "execute_result"
    }
   ],
   "source": [
    "len(match_links)"
   ]
  },
  {
   "cell_type": "code",
   "execution_count": 173,
   "metadata": {},
   "outputs": [],
   "source": [
    "match_links = [[match_links[i]] for i in range(len(match_links))]"
   ]
  },
  {
   "cell_type": "code",
   "execution_count": null,
   "metadata": {},
   "outputs": [],
   "source": [
    "# match_links"
   ]
  },
  {
   "cell_type": "markdown",
   "metadata": {},
   "source": [
    "Save the list of urls as a csv to be used for the actual match-scraping"
   ]
  },
  {
   "cell_type": "code",
   "execution_count": 174,
   "metadata": {},
   "outputs": [],
   "source": [
    "import csv\n",
    "filename = League.value+Season.value+'.csv'\n",
    "with open(filename, 'w') as f: \n",
    "    # using csv.writer method from CSV package \n",
    "    write = csv.writer(f) \n",
    "    write.writerow(['col1']) \n",
    "    write.writerows(match_links) "
   ]
  },
  {
   "cell_type": "code",
   "execution_count": null,
   "metadata": {},
   "outputs": [],
   "source": []
  }
 ],
 "metadata": {
  "kernelspec": {
   "display_name": "Python 3",
   "language": "python",
   "name": "python3"
  },
  "language_info": {
   "codemirror_mode": {
    "name": "ipython",
    "version": 3
   },
   "file_extension": ".py",
   "mimetype": "text/x-python",
   "name": "python",
   "nbconvert_exporter": "python",
   "pygments_lexer": "ipython3",
   "version": "3.7.6"
  }
 },
 "nbformat": 4,
 "nbformat_minor": 4
}
