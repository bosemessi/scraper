{
 "cells": [
  {
   "cell_type": "code",
   "execution_count": 1,
   "metadata": {},
   "outputs": [],
   "source": [
    "from selenium import webdriver \n",
    "import time \n",
    "from bs4 import BeautifulSoup\n",
    "import pandas as pd\n",
    "import os; import sys;\n",
    "from selenium import webdriver\n",
    "from selenium.webdriver.chrome.options import Options\n",
    "from selenium.webdriver.common.by import By\n",
    "from selenium.webdriver.support.ui import WebDriverWait\n",
    "from selenium.webdriver.support import expected_conditions as EC\n",
    "from selenium.common.exceptions import TimeoutException, WebDriverException\n",
    "from selenium.webdriver.common.action_chains import ActionChains\n",
    "from selenium.common.exceptions import NoSuchElementException \n",
    "import time\n",
    "import json"
   ]
  },
  {
   "cell_type": "code",
   "execution_count": 2,
   "metadata": {},
   "outputs": [],
   "source": [
    "options = Options()\n",
    "options.add_argument(\"start-maximized\")\n",
    "options.add_argument(\"disable-infobars\")\n",
    "options.add_argument(\"--disable-extensions\")\n",
    "options.headless=True"
   ]
  },
  {
   "cell_type": "code",
   "execution_count": 3,
   "metadata": {},
   "outputs": [
    {
     "data": {
      "text/plain": [
       "['https://www.whoscored.com/Matches/1491995/Live/Spain-LaLiga-2020-2021-Barcelona-Sevilla',\n",
       " 'https://www.whoscored.com/Matches/1492047/Live/Spain-LaLiga-2020-2021-Deportivo-Alaves-Barcelona',\n",
       " 'https://www.whoscored.com/Matches/1492033/Live/Spain-LaLiga-2020-2021-Barcelona-Real-Madrid',\n",
       " 'https://www.whoscored.com/Matches/1508913/Live/Europe-Champions-League-2020-2021-Barcelona-Dynamo-Kyiv',\n",
       " 'https://www.whoscored.com/Matches/1491984/Live/Spain-LaLiga-2020-2021-Celta-Vigo-Barcelona',\n",
       " 'https://www.whoscored.com/Matches/1491975/Live/Spain-LaLiga-2020-2021-Barcelona-Villarreal',\n",
       " 'https://www.whoscored.com/Matches/1508910/Live/Europe-Champions-League-2020-2021-Barcelona-Ferencvaros',\n",
       " 'https://www.whoscored.com/Matches/1508912/Live/Europe-Champions-League-2020-2021-Juventus-Barcelona',\n",
       " 'https://www.whoscored.com/Matches/1492008/Live/Spain-LaLiga-2020-2021-Atletico-Madrid-Barcelona',\n",
       " 'https://www.whoscored.com/Matches/1508916/Live/Europe-Champions-League-2020-2021-Dynamo-Kyiv-Barcelona',\n",
       " 'https://www.whoscored.com/Matches/1492327/Live/Spain-LaLiga-2020-2021-Barcelona-Real-Betis',\n",
       " 'https://www.whoscored.com/Matches/1492021/Live/Spain-LaLiga-2020-2021-Getafe-Barcelona']"
      ]
     },
     "execution_count": 3,
     "metadata": {},
     "output_type": "execute_result"
    }
   ],
   "source": [
    "df = pd.read_csv(\"barcamatchlistnew.csv\",encoding='utf-8-sig')\n",
    "urls = df.col1.tolist()\n",
    "urls\n",
    "# urls = ['https://www.whoscored.com/Matches/1508916/Live/Europe-Champions-League-2020-2021-Dynamo-Kyiv-Barcelona']"
   ]
  },
  {
   "cell_type": "code",
   "execution_count": 4,
   "metadata": {},
   "outputs": [],
   "source": [
    "# driver = webdriver.Chrome() \n",
    "# website_URL = urls[0]\n",
    "# driver.get(website_URL)"
   ]
  },
  {
   "cell_type": "code",
   "execution_count": 5,
   "metadata": {},
   "outputs": [],
   "source": [
    "def check_exists_by_xpath():\n",
    "    try:\n",
    "        driver.find_element_by_xpath(\"//script[contains(.,'matchCentreData')]\")\n",
    "    except NoSuchElementException:\n",
    "        return False\n",
    "    return True"
   ]
  },
  {
   "cell_type": "code",
   "execution_count": 6,
   "metadata": {},
   "outputs": [],
   "source": [
    "driver = webdriver.Chrome() \n",
    "for i in range(len(urls)):\n",
    "    website_URL = urls[i]\n",
    "    driver.get(website_URL)\n",
    "    if check_exists_by_xpath():\n",
    "        matchdict = driver.execute_script(\"return matchCentreData;\")\n",
    "        matchdict['matchId'] = driver.execute_script(\"return matchId;\")\n",
    "        with open(str(matchdict['matchId'])+'.json', 'w') as fp:\n",
    "            json.dump(matchdict, fp, sort_keys=True, indent=4)"
   ]
  },
  {
   "cell_type": "code",
   "execution_count": 7,
   "metadata": {},
   "outputs": [
    {
     "data": {
      "text/plain": [
       "True"
      ]
     },
     "execution_count": 7,
     "metadata": {},
     "output_type": "execute_result"
    }
   ],
   "source": [
    "check_exists_by_xpath()"
   ]
  },
  {
   "cell_type": "code",
   "execution_count": null,
   "metadata": {},
   "outputs": [],
   "source": []
  }
 ],
 "metadata": {
  "kernelspec": {
   "display_name": "Python 3",
   "language": "python",
   "name": "python3"
  },
  "language_info": {
   "codemirror_mode": {
    "name": "ipython",
    "version": 3
   },
   "file_extension": ".py",
   "mimetype": "text/x-python",
   "name": "python",
   "nbconvert_exporter": "python",
   "pygments_lexer": "ipython3",
   "version": "3.7.6"
  }
 },
 "nbformat": 4,
 "nbformat_minor": 4
}
