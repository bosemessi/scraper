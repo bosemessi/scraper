{
 "cells": [
  {
   "cell_type": "code",
   "execution_count": 1,
   "metadata": {},
   "outputs": [],
   "source": [
    "from selenium import webdriver \n",
    "import time \n",
    "from bs4 import BeautifulSoup\n",
    "import pandas as pd\n",
    "import os; import sys;\n",
    "from selenium import webdriver\n",
    "from selenium.webdriver.chrome.options import Options\n",
    "from selenium.webdriver.common.by import By\n",
    "from selenium.webdriver.support.ui import WebDriverWait\n",
    "from selenium.webdriver.support import expected_conditions as EC\n",
    "from selenium.common.exceptions import TimeoutException, WebDriverException\n",
    "from selenium.webdriver.common.action_chains import ActionChains\n",
    "from selenium.common.exceptions import NoSuchElementException \n",
    "import time\n",
    "import json\n",
    "from tqdm import tqdm"
   ]
  },
  {
   "cell_type": "code",
   "execution_count": 2,
   "metadata": {},
   "outputs": [],
   "source": [
    "subf='SA\\\\'\n",
    "urllist = ['https://www.whoscored.com/Matches/1376259/Live/England-Premier-League-2019-2020-Manchester-United-Bournemouth']"
   ]
  },
  {
   "cell_type": "code",
   "execution_count": 3,
   "metadata": {},
   "outputs": [],
   "source": [
    "options = Options()\n",
    "options.add_argument(\"start-maximized\")\n",
    "options.add_argument(\"disable-infobars\")\n",
    "options.add_argument(\"--disable-extensions\")\n",
    "options.headless=True\n",
    "# folder = 'C:\\\\Users\\\\bosem\\\\OneDrive\\\\Desktop\\\\Data202021\\\\'"
   ]
  },
  {
   "cell_type": "code",
   "execution_count": 4,
   "metadata": {},
   "outputs": [],
   "source": [
    "# df = pd.read_csv(subf[:2]+\"matchlist.csv\",encoding='utf-8-sig')\n",
    "# urls = df.col1.tolist()\n",
    "urls = urllist\n",
    "# urls = ['https://www.whoscored.com/Matches/1492024/Live/Spain-LaLiga-2020-2021-Barcelona-Osasuna']"
   ]
  },
  {
   "cell_type": "code",
   "execution_count": 5,
   "metadata": {},
   "outputs": [],
   "source": [
    "# driver = webdriver.Chrome() \n",
    "# website_URL = urls[0]\n",
    "# driver.get(website_URL)"
   ]
  },
  {
   "cell_type": "code",
   "execution_count": 6,
   "metadata": {},
   "outputs": [],
   "source": [
    "def check_exists_by_xpath():\n",
    "    try:\n",
    "        driver.find_element_by_xpath(\"//script[contains(.,'matchCentreData')]\")\n",
    "    except NoSuchElementException:\n",
    "        return False\n",
    "    return True"
   ]
  },
  {
   "cell_type": "code",
   "execution_count": 7,
   "metadata": {},
   "outputs": [
    {
     "name": "stderr",
     "output_type": "stream",
     "text": [
      "Reading Games: 100%|█████████████████████████████████████████████████████████████████████| 1/1 [00:02<00:00,  2.91s/it]\n"
     ]
    }
   ],
   "source": [
    "driver = webdriver.Chrome() \n",
    "for i in tqdm(range(len(urls)),desc='Reading Games'):\n",
    "    website_URL = urls[i]\n",
    "    if((i!=0)&(i%10==0)):\n",
    "        time.sleep(60)\n",
    "    driver.get(website_URL)\n",
    "    if check_exists_by_xpath():\n",
    "        matchdict = driver.execute_script(\"return matchCentreData;\")\n",
    "        matchdict['id'] = driver.execute_script(\"return matchId;\")\n",
    "        matchdict['season_id'] = 2020\n",
    "        matchdict['competition_id'] = 5\n",
    "        with open(str(matchdict['id'])+'.json', 'w') as fp:\n",
    "            json.dump(matchdict, fp, sort_keys=True, indent=4)"
   ]
  },
  {
   "cell_type": "code",
   "execution_count": 8,
   "metadata": {},
   "outputs": [],
   "source": [
    "# check_exists_by_xpath()"
   ]
  },
  {
   "cell_type": "code",
   "execution_count": 9,
   "metadata": {
    "code_folding": []
   },
   "outputs": [],
   "source": [
    "##### If for some weird reason, some games are not scraped, uncomment the following to check the indices of the url list\n",
    "##### for games not scraped. Then use those url indices in a list and rerun the above chunk\n",
    "\n",
    "# idlist = [urls[i][34:41] for i in range(len(urls))]\n",
    "# Read all json files\n",
    "# json_files = [folder+subf+pos_json for pos_json in os.listdir(folder+subf) if pos_json.endswith('.json')]\n",
    "# nidlist = [json_files[i][-12:-5] for i in range(len(json_files))]\n",
    "# (list(list(set(idlist)-set(nidlist)) + list(set(nidlist)-set(idlist))))"
   ]
  },
  {
   "cell_type": "code",
   "execution_count": 10,
   "metadata": {},
   "outputs": [],
   "source": [
    "# len(set(idlist))"
   ]
  },
  {
   "cell_type": "code",
   "execution_count": 11,
   "metadata": {},
   "outputs": [],
   "source": [
    "# len(idlist)"
   ]
  },
  {
   "cell_type": "code",
   "execution_count": 12,
   "metadata": {},
   "outputs": [],
   "source": [
    "# len(nidlist)"
   ]
  },
  {
   "cell_type": "code",
   "execution_count": 13,
   "metadata": {},
   "outputs": [],
   "source": [
    "# len(set(nidlist))"
   ]
  },
  {
   "cell_type": "code",
   "execution_count": 14,
   "metadata": {},
   "outputs": [],
   "source": [
    "# idlist.index('1463990')"
   ]
  },
  {
   "cell_type": "code",
   "execution_count": 15,
   "metadata": {},
   "outputs": [],
   "source": [
    "# len(df.col1.tolist())"
   ]
  },
  {
   "cell_type": "code",
   "execution_count": null,
   "metadata": {},
   "outputs": [],
   "source": []
  }
 ],
 "metadata": {
  "kernelspec": {
   "display_name": "Python 3",
   "language": "python",
   "name": "python3"
  },
  "language_info": {
   "codemirror_mode": {
    "name": "ipython",
    "version": 3
   },
   "file_extension": ".py",
   "mimetype": "text/x-python",
   "name": "python",
   "nbconvert_exporter": "python",
   "pygments_lexer": "ipython3",
   "version": "3.7.6"
  }
 },
 "nbformat": 4,
 "nbformat_minor": 4
}
