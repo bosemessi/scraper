{
 "cells": [
  {
   "cell_type": "code",
   "execution_count": 1,
   "metadata": {},
   "outputs": [],
   "source": [
    "url = \"https://www.whoscored.com/Regions/108/Tournaments/5/Seasons/8330/Stages/18873/Fixtures/Italy-Serie-A-2020-2021\""
   ]
  },
  {
   "cell_type": "code",
   "execution_count": 2,
   "metadata": {},
   "outputs": [],
   "source": [
    "from selenium import webdriver \n",
    "import time \n",
    "from bs4 import BeautifulSoup\n",
    "import pandas as pd\n",
    "import os; import sys;\n",
    "from selenium import webdriver\n",
    "from selenium.webdriver.chrome.options import Options\n",
    "from selenium.webdriver.common.by import By\n",
    "from selenium.webdriver.support.ui import WebDriverWait\n",
    "from selenium.webdriver.support import expected_conditions as EC\n",
    "from selenium.common.exceptions import TimeoutException, WebDriverException\n",
    "from selenium.webdriver.common.action_chains import ActionChains\n",
    "from selenium.common.exceptions import NoSuchElementException    \n",
    "def check_exists_by_tag(tagname,elem):\n",
    "    try:\n",
    "        elem.find_element_by_tag_name(tagname)\n",
    "    except NoSuchElementException:\n",
    "        return False\n",
    "    return True\n",
    "import time\n",
    "import json"
   ]
  },
  {
   "cell_type": "code",
   "execution_count": 3,
   "metadata": {},
   "outputs": [],
   "source": [
    "options = Options()\n",
    "options.add_argument(\"start-maximized\")\n",
    "options.add_argument(\"disable-infobars\")\n",
    "options.add_argument(\"--disable-extensions\")\n",
    "options.headless=True"
   ]
  },
  {
   "cell_type": "code",
   "execution_count": 4,
   "metadata": {},
   "outputs": [],
   "source": [
    "driver = webdriver.Chrome() \n",
    "driver.get(url)\n",
    "elems = driver.find_elements_by_xpath(\"//a[@href]\")\n",
    "listofmatches = []\n",
    "for elem in elems:\n",
    "    strelem = str(elem.get_attribute(\"href\"))\n",
    "    if(\"https://www.whoscored.com/Matches/\" in strelem):\n",
    "        if(\"Live\" in strelem):\n",
    "            listofmatches.append(strelem)\n",
    "listofmatches = list(set(listofmatches))\n",
    "df = pd.DataFrame(data={\"col1\": listofmatches})"
   ]
  },
  {
   "cell_type": "code",
   "execution_count": 5,
   "metadata": {},
   "outputs": [],
   "source": [
    "df.to_csv(\"SAmatchlist.csv\",encoding='utf-8-sig',index=False)"
   ]
  },
  {
   "cell_type": "code",
   "execution_count": 6,
   "metadata": {},
   "outputs": [
    {
     "data": {
      "text/plain": [
       "34"
      ]
     },
     "execution_count": 6,
     "metadata": {},
     "output_type": "execute_result"
    }
   ],
   "source": [
    "len(df)"
   ]
  },
  {
   "cell_type": "code",
   "execution_count": 7,
   "metadata": {
    "code_folding": [
     0
    ]
   },
   "outputs": [],
   "source": [
    "# import numpy as np\n",
    "# datafolder = 'D:\\\\202021\\\\5-2020\\\\'\n",
    "# json_files = [datafolder+pos_json for pos_json in os.listdir(datafolder) if pos_json.endswith('.json')]\n",
    "# date = []\n",
    "# for i in range(len(json_files)):\n",
    "#     jsonfile = json_files[i]\n",
    "#     with open(jsonfile, encoding=\"utf-8\") as fh:\n",
    "#         root = json.load(fh)\n",
    "#     datearray = root['startDate'][:10].split('-')\n",
    "#     date.append(int(datearray[0])*10000+int(datearray[1])*100+int(datearray[2]))\n",
    "# date = np.array(date)\n",
    "# np.sort(date)"
   ]
  },
  {
   "cell_type": "code",
   "execution_count": 8,
   "metadata": {},
   "outputs": [],
   "source": [
    "# root['home']['name']"
   ]
  },
  {
   "cell_type": "code",
   "execution_count": null,
   "metadata": {},
   "outputs": [],
   "source": []
  }
 ],
 "metadata": {
  "kernelspec": {
   "display_name": "Python 3",
   "language": "python",
   "name": "python3"
  },
  "language_info": {
   "codemirror_mode": {
    "name": "ipython",
    "version": 3
   },
   "file_extension": ".py",
   "mimetype": "text/x-python",
   "name": "python",
   "nbconvert_exporter": "python",
   "pygments_lexer": "ipython3",
   "version": "3.7.6"
  }
 },
 "nbformat": 4,
 "nbformat_minor": 4
}
